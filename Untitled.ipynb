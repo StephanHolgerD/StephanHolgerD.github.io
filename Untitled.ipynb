{
 "cells": [
  {
   "cell_type": "code",
   "execution_count": 2,
   "id": "152bb838-b8ff-410c-aed0-3c74340ac687",
   "metadata": {},
   "outputs": [],
   "source": [
    "import pandas as pd"
   ]
  },
  {
   "cell_type": "code",
   "execution_count": 41,
   "id": "353e9026-0846-4cf6-a084-3157d4aa9fb3",
   "metadata": {},
   "outputs": [],
   "source": [
    "d = pd.read_csv('ESHG2024/ABCA4.ESHG.csv',dtype=str)"
   ]
  },
  {
   "cell_type": "code",
   "execution_count": 42,
   "id": "361c3f4e-1e50-4185-adaa-96b97aff9e7a",
   "metadata": {},
   "outputs": [],
   "source": [
    "d['ClinVar'] =[f'<a href=\"https://www.ncbi.nlm.nih.gov/clinvar/variation/{x}\">{x}</a>' for x in d['ClinVar']]"
   ]
  },
  {
   "cell_type": "code",
   "execution_count": 43,
   "id": "13c59268-319c-48fd-85d2-80ac0de7a9fa",
   "metadata": {},
   "outputs": [],
   "source": [
    "pd.set_option('colheader_justify', 'center')   # FOR TABLE <th>\n",
    "\n",
    "html_string = '''\n",
    "<html>\n",
    "  <head><title>HTML Pandas Dataframe with CSS</title></head>\n",
    "  <link rel=\"stylesheet\" type=\"text/css\" href=\"df_style.css\"/>\n",
    "  <body>\n",
    "    {table}\n",
    "  </body>\n",
    "</html>.\n",
    "'''\n",
    "\n",
    "# OUTPUT AN HTML FILE\n",
    "with open('ABCA4.html', 'w') as f:\n",
    "    f.write(html_string.format(table=d.to_html(classes='mystyle',escape=False)))\n"
   ]
  },
  {
   "cell_type": "code",
   "execution_count": 37,
   "id": "b245884a-c338-41e2-951a-50085ad4888f",
   "metadata": {},
   "outputs": [],
   "source": [
    "d.to_html('ABCA4.html',escape=False,index=False,st)"
   ]
  },
  {
   "cell_type": "code",
   "execution_count": null,
   "id": "375a59dc-46cc-43ca-abed-d78b381a122d",
   "metadata": {},
   "outputs": [],
   "source": []
  }
 ],
 "metadata": {
  "kernelspec": {
   "display_name": "Python 3 (ipykernel)",
   "language": "python",
   "name": "python3"
  },
  "language_info": {
   "codemirror_mode": {
    "name": "ipython",
    "version": 3
   },
   "file_extension": ".py",
   "mimetype": "text/x-python",
   "name": "python",
   "nbconvert_exporter": "python",
   "pygments_lexer": "ipython3",
   "version": "3.10.14"
  }
 },
 "nbformat": 4,
 "nbformat_minor": 5
}
